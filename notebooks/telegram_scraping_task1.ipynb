{
  "cells": [
    {
      "cell_type": "code",
      "execution_count": 1,
      "id": "8b79172c",
      "metadata": {},
      "outputs": [
        {
          "name": "stdout",
          "output_type": "stream",
          "text": [
            "Requirement already satisfied: telethon in g:\\10 academy\\week_7\\telegram_medical_analytics_api\\venv\\lib\\site-packages (1.40.0)\n",
            "Requirement already satisfied: python-dotenv in g:\\10 academy\\week_7\\telegram_medical_analytics_api\\venv\\lib\\site-packages (1.1.1)\n",
            "Requirement already satisfied: aiofiles in g:\\10 academy\\week_7\\telegram_medical_analytics_api\\venv\\lib\\site-packages (24.1.0)\n",
            "Requirement already satisfied: pyaes in g:\\10 academy\\week_7\\telegram_medical_analytics_api\\venv\\lib\\site-packages (from telethon) (1.6.1)\n",
            "Requirement already satisfied: rsa in g:\\10 academy\\week_7\\telegram_medical_analytics_api\\venv\\lib\\site-packages (from telethon) (4.9.1)\n",
            "Requirement already satisfied: pyasn1>=0.1.3 in g:\\10 academy\\week_7\\telegram_medical_analytics_api\\venv\\lib\\site-packages (from rsa->telethon) (0.6.1)\n"
          ]
        },
        {
          "name": "stderr",
          "output_type": "stream",
          "text": [
            "\n",
            "[notice] A new release of pip is available: 24.2 -> 25.1.1\n",
            "[notice] To update, run: python.exe -m pip install --upgrade pip\n"
          ]
        }
      ],
      "source": [
        "# Install dependencies (run once)\n",
        "!pip install telethon python-dotenv aiofiles"
      ]
    },
    {
      "cell_type": "code",
      "execution_count": 2,
      "id": "838f00c7",
      "metadata": {},
      "outputs": [],
      "source": [
        "import os\n",
        "import json\n",
        "import logging\n",
        "from datetime import datetime\n",
        "from telethon.sync import TelegramClient\n",
        "from telethon.tl.types import MessageMediaPhoto\n",
        "from dotenv import load_dotenv\n",
        "from pathlib import Path\n"
      ]
    },
    {
      "cell_type": "code",
      "execution_count": 3,
      "id": "ad2a1cbd",
      "metadata": {},
      "outputs": [],
      "source": [
        "# Load environment\n",
        "load_dotenv()\n",
        "api_id = int(os.getenv(\"TELEGRAM_API_ID\"))\n",
        "api_hash = os.getenv(\"TELEGRAM_API_HASH\")"
      ]
    },
    {
      "cell_type": "code",
      "execution_count": 4,
      "id": "3034e313",
      "metadata": {},
      "outputs": [],
      "source": [
        "\n",
        "# Setup logging\n",
        "logging.basicConfig(filename=\"scraping.log\", level=logging.INFO)\n",
        "\n",
        "# Define target channels\n",
        "channels = {\n",
        "    \"lobelia4cosmetics\": \"https://t.me/lobelia4cosmetics\",\n",
        "    \"tikvahpharma\": \"https://t.me/tikvahpharma\"\n",
        "}"
      ]
    },
    {
      "cell_type": "code",
      "execution_count": 8,
      "id": "dd6992ae",
      "metadata": {},
      "outputs": [],
      "source": [
        "# Define base directory\n",
        "BASE_DIR = Path(\"../data/raw/telegram_messages\")\n",
        "IMAGE_DIR = Path(\"../data/raw/images\")\n",
        "BASE_DIR.mkdir(parents=True, exist_ok=True)\n",
        "IMAGE_DIR.mkdir(parents=True, exist_ok=True)"
      ]
    },
    {
      "cell_type": "code",
      "execution_count": 7,
      "id": "3466b58e",
      "metadata": {},
      "outputs": [
        {
          "name": "stdout",
          "output_type": "stream",
          "text": [
            "Signed in successfully as teme; remember to not break the ToS or you will risk an account ban!\n"
          ]
        }
      ],
      "source": [
        "import asyncio\n",
        "from telethon.sync import TelegramClient\n",
        "from telethon.tl.types import MessageMediaPhoto\n",
        "\n",
        "async def scrape_telegram():\n",
        "    async with TelegramClient(\"session_scraper\", api_id, api_hash) as client:\n",
        "        for channel_name, url in channels.items():\n",
        "            logging.info(f\"Scraping {channel_name}\")\n",
        "            try:\n",
        "                today = datetime.now().strftime(\"%Y-%m-%d\")\n",
        "                save_path = BASE_DIR / today / f\"{channel_name}.json\"\n",
        "                save_path.parent.mkdir(parents=True, exist_ok=True)\n",
        "\n",
        "                messages_data = []\n",
        "                async for message in client.iter_messages(url, limit=100):\n",
        "                    msg = {\n",
        "                        \"id\": message.id,\n",
        "                        \"date\": str(message.date),\n",
        "                        \"sender\": str(message.sender_id),\n",
        "                        \"text\": message.text,\n",
        "                    }\n",
        "\n",
        "                    # Save image if available\n",
        "                    if message.media and isinstance(message.media, MessageMediaPhoto):\n",
        "                        img_path = IMAGE_DIR / f\"{channel_name}_{message.id}.jpg\"\n",
        "                        await client.download_media(message, file=img_path)\n",
        "                        msg[\"image_path\"] = str(img_path)\n",
        "\n",
        "                    messages_data.append(msg)\n",
        "\n",
        "                with open(save_path, \"w\", encoding=\"utf-8\") as f:\n",
        "                    json.dump(messages_data, f, indent=2, ensure_ascii=False)\n",
        "\n",
        "                logging.info(f\"Saved {len(messages_data)} messages for {channel_name}\")\n",
        "            except Exception as e:\n",
        "                logging.error(f\"Failed to scrape {channel_name}: {e}\")\n",
        "\n",
        "# Run the async function\n",
        "await scrape_telegram()\n"
      ]
    }
  ],
  "metadata": {
    "kernelspec": {
      "display_name": "venv",
      "language": "python",
      "name": "python3"
    },
    "language_info": {
      "codemirror_mode": {
        "name": "ipython",
        "version": 3
      },
      "file_extension": ".py",
      "mimetype": "text/x-python",
      "name": "python",
      "nbconvert_exporter": "python",
      "pygments_lexer": "ipython3",
      "version": "3.12.5"
    }
  },
  "nbformat": 4,
  "nbformat_minor": 5
}
